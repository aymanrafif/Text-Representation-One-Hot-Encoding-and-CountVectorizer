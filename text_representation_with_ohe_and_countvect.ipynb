{
 "cells": [
  {
   "cell_type": "markdown",
   "metadata": {},
   "source": [
    "2502004102 - Musyaffa Ayman Rafif\n",
    "\n",
    "Text Mining (LB09)"
   ]
  },
  {
   "cell_type": "markdown",
   "metadata": {},
   "source": [
    "# 1. Notebook Preparation"
   ]
  },
  {
   "cell_type": "markdown",
   "metadata": {},
   "source": [
    "## 1.1. Import Libraries"
   ]
  },
  {
   "cell_type": "code",
   "execution_count": 2,
   "metadata": {},
   "outputs": [],
   "source": [
    "import pandas as pd\n",
    "import re\n",
    "import nltk\n",
    "from nltk.tokenize import word_tokenize\n",
    "\n",
    "# For One Hot Encoding\n",
    "from numpy import array\n",
    "from numpy import argmax\n",
    "from sklearn.preprocessing import LabelEncoder\n",
    "from sklearn.preprocessing import OneHotEncoder\n",
    "\n",
    "# For Count Vectonizer\n",
    "from sklearn.feature_extraction.text import CountVectorizer"
   ]
  },
  {
   "cell_type": "markdown",
   "metadata": {},
   "source": [
    "## 1.2. Setup Modules"
   ]
  },
  {
   "cell_type": "code",
   "execution_count": 3,
   "metadata": {},
   "outputs": [],
   "source": [
    "def text_cleansing(df):\n",
    "    df_clean=df.str.lower()\n",
    "    df_clean=[re.sub(r\"\\d+\",\"\",i )for i in df_clean]\n",
    "    df_clean=[re.sub(r'[^\\w]', ' ', i)for i in df_clean]\n",
    "    df_clean=[re.sub(r'\\s+',' ',i)for i in df_clean]\n",
    "    return df_clean\n",
    "    "
   ]
  },
  {
   "cell_type": "markdown",
   "metadata": {},
   "source": [
    "# 2. Data Preparation"
   ]
  },
  {
   "cell_type": "code",
   "execution_count": 4,
   "metadata": {},
   "outputs": [],
   "source": [
    "import pandas as pd\n",
    "\n",
    "text1 = \"THE FIRST UNSEEDED WINNER OF THE WIMBLEDON WOMEN'S SINGLES TITLE! 🏆Marketa Vondrousova has shocked the world and beaten Ons Jabeur! 👑#Vondrousova #Tennis #Wimbledon @bbcsport\"\n",
    "text2 = \"The morning sun filtered between the tree trunks of the dense, mist-filled Chocó Cloud Forest as I watched colourful butterflies and vibrant tanagers flutter among the branches – all from the comfort of my bed with just a glass wall separating me and the outside world. Words like 'immersive' and 'eco-tourism' are often overused in the travel industry, but Mashpi Lodge, a boutique hotel placed in the middle of a steamy Ecuadorian jungle, couldn't be truer of these concepts.\"\n"
   ]
  },
  {
   "cell_type": "code",
   "execution_count": 5,
   "metadata": {},
   "outputs": [],
   "source": [
    "data = {'Texts': [text1, text2]}\n",
    "df = pd.DataFrame(data)"
   ]
  },
  {
   "cell_type": "code",
   "execution_count": 6,
   "metadata": {},
   "outputs": [
    {
     "data": {
      "text/html": [
       "<div>\n",
       "<style scoped>\n",
       "    .dataframe tbody tr th:only-of-type {\n",
       "        vertical-align: middle;\n",
       "    }\n",
       "\n",
       "    .dataframe tbody tr th {\n",
       "        vertical-align: top;\n",
       "    }\n",
       "\n",
       "    .dataframe thead th {\n",
       "        text-align: right;\n",
       "    }\n",
       "</style>\n",
       "<table border=\"1\" class=\"dataframe\">\n",
       "  <thead>\n",
       "    <tr style=\"text-align: right;\">\n",
       "      <th></th>\n",
       "      <th>Texts</th>\n",
       "    </tr>\n",
       "  </thead>\n",
       "  <tbody>\n",
       "    <tr>\n",
       "      <th>0</th>\n",
       "      <td>THE FIRST UNSEEDED WINNER OF THE WIMBLEDON WOM...</td>\n",
       "    </tr>\n",
       "    <tr>\n",
       "      <th>1</th>\n",
       "      <td>The morning sun filtered between the tree trun...</td>\n",
       "    </tr>\n",
       "  </tbody>\n",
       "</table>\n",
       "</div>"
      ],
      "text/plain": [
       "                                               Texts\n",
       "0  THE FIRST UNSEEDED WINNER OF THE WIMBLEDON WOM...\n",
       "1  The morning sun filtered between the tree trun..."
      ]
     },
     "execution_count": 6,
     "metadata": {},
     "output_type": "execute_result"
    }
   ],
   "source": [
    "df.head()"
   ]
  },
  {
   "cell_type": "markdown",
   "metadata": {},
   "source": [
    "## 2.1. Text Cleansing"
   ]
  },
  {
   "cell_type": "markdown",
   "metadata": {},
   "source": [
    "Before:"
   ]
  },
  {
   "cell_type": "code",
   "execution_count": 17,
   "metadata": {},
   "outputs": [
    {
     "name": "stdout",
     "output_type": "stream",
     "text": [
      "THE FIRST UNSEEDED WINNER OF THE WIMBLEDON WOMEN'S SINGLES TITLE! 🏆Marketa Vondrousova has shocked the world and beaten Ons Jabeur! 👑#Vondrousova #Tennis #Wimbledon @bbcsport \n",
      "\n",
      "The morning sun filtered between the tree trunks of the dense, mist-filled Chocó Cloud Forest as I watched colourful butterflies and vibrant tanagers flutter among the branches – all from the comfort of my bed with just a glass wall separating me and the outside world. Words like 'immersive' and 'eco-tourism' are often overused in the travel industry, but Mashpi Lodge, a boutique hotel placed in the middle of a steamy Ecuadorian jungle, couldn't be truer of these concepts. \n",
      "\n"
     ]
    }
   ],
   "source": [
    "for i in df['Texts']:\n",
    "    print(i, '\\n')"
   ]
  },
  {
   "cell_type": "markdown",
   "metadata": {},
   "source": [
    "After:"
   ]
  },
  {
   "cell_type": "code",
   "execution_count": 18,
   "metadata": {},
   "outputs": [
    {
     "name": "stdout",
     "output_type": "stream",
     "text": [
      "the first unseeded winner of the wimbledon women s singles title marketa vondrousova has shocked the world and beaten ons jabeur vondrousova tennis wimbledon bbcsport /n\n",
      "the morning sun filtered between the tree trunks of the dense mist filled chocó cloud forest as i watched colourful butterflies and vibrant tanagers flutter among the branches all from the comfort of my bed with just a glass wall separating me and the outside world words like immersive and eco tourism are often overused in the travel industry but mashpi lodge a boutique hotel placed in the middle of a steamy ecuadorian jungle couldn t be truer of these concepts  /n\n"
     ]
    }
   ],
   "source": [
    "df_clean = text_cleansing(df['Texts'])\n",
    "\n",
    "for i in df_clean:\n",
    "    print(i, '/n')"
   ]
  },
  {
   "cell_type": "markdown",
   "metadata": {},
   "source": [
    "## 2.2. Word Tokenize"
   ]
  },
  {
   "cell_type": "code",
   "execution_count": 9,
   "metadata": {},
   "outputs": [
    {
     "data": {
      "text/plain": [
       "[['the',\n",
       "  'first',\n",
       "  'unseeded',\n",
       "  'winner',\n",
       "  'of',\n",
       "  'the',\n",
       "  'wimbledon',\n",
       "  'women',\n",
       "  's',\n",
       "  'singles',\n",
       "  'title',\n",
       "  'marketa',\n",
       "  'vondrousova',\n",
       "  'has',\n",
       "  'shocked',\n",
       "  'the',\n",
       "  'world',\n",
       "  'and',\n",
       "  'beaten',\n",
       "  'ons',\n",
       "  'jabeur',\n",
       "  'vondrousova',\n",
       "  'tennis',\n",
       "  'wimbledon',\n",
       "  'bbcsport'],\n",
       " ['the',\n",
       "  'morning',\n",
       "  'sun',\n",
       "  'filtered',\n",
       "  'between',\n",
       "  'the',\n",
       "  'tree',\n",
       "  'trunks',\n",
       "  'of',\n",
       "  'the',\n",
       "  'dense',\n",
       "  'mist',\n",
       "  'filled',\n",
       "  'chocó',\n",
       "  'cloud',\n",
       "  'forest',\n",
       "  'as',\n",
       "  'i',\n",
       "  'watched',\n",
       "  'colourful',\n",
       "  'butterflies',\n",
       "  'and',\n",
       "  'vibrant',\n",
       "  'tanagers',\n",
       "  'flutter',\n",
       "  'among',\n",
       "  'the',\n",
       "  'branches',\n",
       "  'all',\n",
       "  'from',\n",
       "  'the',\n",
       "  'comfort',\n",
       "  'of',\n",
       "  'my',\n",
       "  'bed',\n",
       "  'with',\n",
       "  'just',\n",
       "  'a',\n",
       "  'glass',\n",
       "  'wall',\n",
       "  'separating',\n",
       "  'me',\n",
       "  'and',\n",
       "  'the',\n",
       "  'outside',\n",
       "  'world',\n",
       "  'words',\n",
       "  'like',\n",
       "  'immersive',\n",
       "  'and',\n",
       "  'eco',\n",
       "  'tourism',\n",
       "  'are',\n",
       "  'often',\n",
       "  'overused',\n",
       "  'in',\n",
       "  'the',\n",
       "  'travel',\n",
       "  'industry',\n",
       "  'but',\n",
       "  'mashpi',\n",
       "  'lodge',\n",
       "  'a',\n",
       "  'boutique',\n",
       "  'hotel',\n",
       "  'placed',\n",
       "  'in',\n",
       "  'the',\n",
       "  'middle',\n",
       "  'of',\n",
       "  'a',\n",
       "  'steamy',\n",
       "  'ecuadorian',\n",
       "  'jungle',\n",
       "  'couldn',\n",
       "  't',\n",
       "  'be',\n",
       "  'truer',\n",
       "  'of',\n",
       "  'these',\n",
       "  'concepts']]"
      ]
     },
     "execution_count": 9,
     "metadata": {},
     "output_type": "execute_result"
    }
   ],
   "source": [
    "word_token=[word_tokenize(i) for i in df_clean]\n",
    "word_token"
   ]
  },
  {
   "cell_type": "code",
   "execution_count": 10,
   "metadata": {},
   "outputs": [
    {
     "data": {
      "text/plain": [
       "['the',\n",
       " 'first',\n",
       " 'unseeded',\n",
       " 'winner',\n",
       " 'of',\n",
       " 'the',\n",
       " 'wimbledon',\n",
       " 'women',\n",
       " 's',\n",
       " 'singles',\n",
       " 'title',\n",
       " 'marketa',\n",
       " 'vondrousova',\n",
       " 'has',\n",
       " 'shocked',\n",
       " 'the',\n",
       " 'world',\n",
       " 'and',\n",
       " 'beaten',\n",
       " 'ons',\n",
       " 'jabeur',\n",
       " 'vondrousova',\n",
       " 'tennis',\n",
       " 'wimbledon',\n",
       " 'bbcsport',\n",
       " 'the',\n",
       " 'morning',\n",
       " 'sun',\n",
       " 'filtered',\n",
       " 'between',\n",
       " 'the',\n",
       " 'tree',\n",
       " 'trunks',\n",
       " 'of',\n",
       " 'the',\n",
       " 'dense',\n",
       " 'mist',\n",
       " 'filled',\n",
       " 'chocó',\n",
       " 'cloud',\n",
       " 'forest',\n",
       " 'as',\n",
       " 'i',\n",
       " 'watched',\n",
       " 'colourful',\n",
       " 'butterflies',\n",
       " 'and',\n",
       " 'vibrant',\n",
       " 'tanagers',\n",
       " 'flutter',\n",
       " 'among',\n",
       " 'the',\n",
       " 'branches',\n",
       " 'all',\n",
       " 'from',\n",
       " 'the',\n",
       " 'comfort',\n",
       " 'of',\n",
       " 'my',\n",
       " 'bed',\n",
       " 'with',\n",
       " 'just',\n",
       " 'a',\n",
       " 'glass',\n",
       " 'wall',\n",
       " 'separating',\n",
       " 'me',\n",
       " 'and',\n",
       " 'the',\n",
       " 'outside',\n",
       " 'world',\n",
       " 'words',\n",
       " 'like',\n",
       " 'immersive',\n",
       " 'and',\n",
       " 'eco',\n",
       " 'tourism',\n",
       " 'are',\n",
       " 'often',\n",
       " 'overused',\n",
       " 'in',\n",
       " 'the',\n",
       " 'travel',\n",
       " 'industry',\n",
       " 'but',\n",
       " 'mashpi',\n",
       " 'lodge',\n",
       " 'a',\n",
       " 'boutique',\n",
       " 'hotel',\n",
       " 'placed',\n",
       " 'in',\n",
       " 'the',\n",
       " 'middle',\n",
       " 'of',\n",
       " 'a',\n",
       " 'steamy',\n",
       " 'ecuadorian',\n",
       " 'jungle',\n",
       " 'couldn',\n",
       " 't',\n",
       " 'be',\n",
       " 'truer',\n",
       " 'of',\n",
       " 'these',\n",
       " 'concepts']"
      ]
     },
     "execution_count": 10,
     "metadata": {},
     "output_type": "execute_result"
    }
   ],
   "source": [
    "data_enc=[]\n",
    "for i in word_token:\n",
    "    data_enc=data_enc+i\n",
    "\n",
    "data_enc"
   ]
  },
  {
   "cell_type": "markdown",
   "metadata": {},
   "source": [
    "# 3. Text Representation"
   ]
  },
  {
   "cell_type": "markdown",
   "metadata": {},
   "source": [
    "## 3.1. One Hot Enconding"
   ]
  },
  {
   "cell_type": "code",
   "execution_count": 11,
   "metadata": {},
   "outputs": [
    {
     "name": "stdout",
     "output_type": "stream",
     "text": [
      "[64 26 72 78 49 64 77 80 55 58 66 42 74 31 57 64 82  3  8 51 37 74 63 77\n",
      "  6 64 47 60 25 10 64 69 71 49 64 21 46 24 15 16 28  5 33 76 17 14  3 73\n",
      " 62 27  2 64 12  1 29 64 18 49 48  9 79 39  0 30 75 56 44  3 64 52 82 81\n",
      " 40 34  3 22 67  4 50 53 35 64 68 36 13 43 41  0 11 32 54 35 64 45 49  0\n",
      " 59 23 38 20 61  7 70 49 65 19]\n"
     ]
    }
   ],
   "source": [
    "label_encoder = LabelEncoder()\n",
    "integer_encoded = label_encoder.fit_transform(data_enc)\n",
    "print(integer_encoded)"
   ]
  },
  {
   "cell_type": "code",
   "execution_count": 12,
   "metadata": {},
   "outputs": [
    {
     "name": "stdout",
     "output_type": "stream",
     "text": [
      "[[0. 0. 0. ... 0. 0. 0.]\n",
      " [0. 0. 0. ... 0. 0. 0.]\n",
      " [0. 0. 0. ... 0. 0. 0.]\n",
      " ...\n",
      " [0. 0. 0. ... 0. 0. 0.]\n",
      " [0. 0. 0. ... 0. 0. 0.]\n",
      " [0. 0. 0. ... 0. 0. 0.]]\n"
     ]
    },
    {
     "name": "stderr",
     "output_type": "stream",
     "text": [
      "c:\\Users\\MSI GL65\\anaconda3\\envs\\gpu_env\\lib\\site-packages\\sklearn\\preprocessing\\_encoders.py:972: FutureWarning: `sparse` was renamed to `sparse_output` in version 1.2 and will be removed in 1.4. `sparse_output` is ignored unless you leave `sparse` to its default value.\n",
      "  warnings.warn(\n"
     ]
    }
   ],
   "source": [
    "onehot_encoder = OneHotEncoder(sparse=False)\n",
    "integer_encoded = integer_encoded.reshape(len(integer_encoded), 1)\n",
    "onehot_encoded = onehot_encoder.fit_transform(integer_encoded)\n",
    "print(onehot_encoded)"
   ]
  },
  {
   "cell_type": "code",
   "execution_count": 13,
   "metadata": {},
   "outputs": [
    {
     "name": "stdout",
     "output_type": "stream",
     "text": [
      "encoded 1 : [0. 0. 0. 0. 0. 0. 0. 0. 0. 0. 0. 0. 0. 0. 0. 0. 0. 0. 0. 0. 0. 0. 0. 0.\n",
      " 0. 0. 0. 0. 0. 0. 0. 0. 0. 0. 0. 0. 0. 0. 0. 0. 0. 0. 0. 0. 0. 0. 0. 0.\n",
      " 0. 0. 0. 0. 0. 0. 0. 0. 0. 0. 0. 0. 0. 0. 0. 0. 1. 0. 0. 0. 0. 0. 0. 0.\n",
      " 0. 0. 0. 0. 0. 0. 0. 0. 0. 0. 0.] \n",
      "inverted 1 : ['the'] \n",
      "\n",
      "encoded 2 : [0. 0. 0. 0. 0. 0. 0. 0. 0. 0. 0. 0. 0. 0. 0. 0. 0. 0. 0. 0. 0. 0. 0. 0.\n",
      " 0. 0. 1. 0. 0. 0. 0. 0. 0. 0. 0. 0. 0. 0. 0. 0. 0. 0. 0. 0. 0. 0. 0. 0.\n",
      " 0. 0. 0. 0. 0. 0. 0. 0. 0. 0. 0. 0. 0. 0. 0. 0. 0. 0. 0. 0. 0. 0. 0. 0.\n",
      " 0. 0. 0. 0. 0. 0. 0. 0. 0. 0. 0.] \n",
      "inverted 2 : ['first'] \n",
      "\n",
      "encoded 3 : [0. 0. 0. 0. 0. 0. 0. 0. 0. 0. 0. 0. 0. 0. 0. 0. 0. 0. 0. 0. 0. 0. 0. 0.\n",
      " 0. 0. 0. 0. 0. 0. 0. 0. 0. 0. 0. 0. 0. 0. 0. 0. 0. 0. 0. 0. 0. 0. 0. 0.\n",
      " 0. 0. 0. 0. 0. 0. 0. 0. 0. 0. 0. 0. 0. 0. 0. 0. 0. 0. 0. 0. 0. 0. 0. 0.\n",
      " 1. 0. 0. 0. 0. 0. 0. 0. 0. 0. 0.] \n",
      "inverted 3 : ['unseeded'] \n",
      "\n"
     ]
    }
   ],
   "source": [
    "# invert first 3 example\n",
    "for i in range(3):\n",
    "    onehot_encoded_1 = onehot_encoded[i, :]\n",
    "    inverted = label_encoder.inverse_transform([argmax(onehot_encoded_1)])\n",
    "    print('encoded', i + 1, ':', onehot_encoded_1, '\\ninverted', i + 1, ':', inverted, '\\n')"
   ]
  },
  {
   "cell_type": "markdown",
   "metadata": {},
   "source": [
    "## 3.2. CountVectorizer"
   ]
  },
  {
   "cell_type": "code",
   "execution_count": 14,
   "metadata": {},
   "outputs": [
    {
     "name": "stdout",
     "output_type": "stream",
     "text": [
      "[[1 1 0 0 0 0 0 0 0 0 0 0 0 0 0 0 0 0 0 0 0 0 0 1 0 0 0 0 1 0 0 0 0 1 0 0\n",
      "  0 0 1 1 0 0 0 1 1 0 0 0 0 0 1 0 2 0 0 2 1 1 0 1]\n",
      " [0 0 1 1 1 1 1 1 1 1 1 1 1 1 1 1 1 1 1 1 1 1 1 0 1 1 1 1 0 1 1 1 1 0 1 1\n",
      "  1 1 0 0 1 1 1 0 0 1 1 1 1 1 0 1 0 1 1 0 0 0 1 1]]\n"
     ]
    }
   ],
   "source": [
    "vectorizer = CountVectorizer(stop_words='english')\n",
    "vectorizer.fit(df_clean)\n",
    "vec_sentences = vectorizer.transform(df_clean) #countvectorizes the text\n",
    "print(vec_sentences.toarray())"
   ]
  },
  {
   "cell_type": "code",
   "execution_count": 15,
   "metadata": {},
   "outputs": [
    {
     "data": {
      "text/html": [
       "<div>\n",
       "<style scoped>\n",
       "    .dataframe tbody tr th:only-of-type {\n",
       "        vertical-align: middle;\n",
       "    }\n",
       "\n",
       "    .dataframe tbody tr th {\n",
       "        vertical-align: top;\n",
       "    }\n",
       "\n",
       "    .dataframe thead th {\n",
       "        text-align: right;\n",
       "    }\n",
       "</style>\n",
       "<table border=\"1\" class=\"dataframe\">\n",
       "  <thead>\n",
       "    <tr style=\"text-align: right;\">\n",
       "      <th></th>\n",
       "      <th>bbcsport</th>\n",
       "      <th>beaten</th>\n",
       "      <th>bed</th>\n",
       "      <th>boutique</th>\n",
       "      <th>branches</th>\n",
       "      <th>butterflies</th>\n",
       "      <th>chocó</th>\n",
       "      <th>cloud</th>\n",
       "      <th>colourful</th>\n",
       "      <th>comfort</th>\n",
       "      <th>...</th>\n",
       "      <th>unseeded</th>\n",
       "      <th>vibrant</th>\n",
       "      <th>vondrousova</th>\n",
       "      <th>wall</th>\n",
       "      <th>watched</th>\n",
       "      <th>wimbledon</th>\n",
       "      <th>winner</th>\n",
       "      <th>women</th>\n",
       "      <th>words</th>\n",
       "      <th>world</th>\n",
       "    </tr>\n",
       "  </thead>\n",
       "  <tbody>\n",
       "    <tr>\n",
       "      <th>0</th>\n",
       "      <td>1</td>\n",
       "      <td>1</td>\n",
       "      <td>0</td>\n",
       "      <td>0</td>\n",
       "      <td>0</td>\n",
       "      <td>0</td>\n",
       "      <td>0</td>\n",
       "      <td>0</td>\n",
       "      <td>0</td>\n",
       "      <td>0</td>\n",
       "      <td>...</td>\n",
       "      <td>1</td>\n",
       "      <td>0</td>\n",
       "      <td>2</td>\n",
       "      <td>0</td>\n",
       "      <td>0</td>\n",
       "      <td>2</td>\n",
       "      <td>1</td>\n",
       "      <td>1</td>\n",
       "      <td>0</td>\n",
       "      <td>1</td>\n",
       "    </tr>\n",
       "    <tr>\n",
       "      <th>1</th>\n",
       "      <td>0</td>\n",
       "      <td>0</td>\n",
       "      <td>1</td>\n",
       "      <td>1</td>\n",
       "      <td>1</td>\n",
       "      <td>1</td>\n",
       "      <td>1</td>\n",
       "      <td>1</td>\n",
       "      <td>1</td>\n",
       "      <td>1</td>\n",
       "      <td>...</td>\n",
       "      <td>0</td>\n",
       "      <td>1</td>\n",
       "      <td>0</td>\n",
       "      <td>1</td>\n",
       "      <td>1</td>\n",
       "      <td>0</td>\n",
       "      <td>0</td>\n",
       "      <td>0</td>\n",
       "      <td>1</td>\n",
       "      <td>1</td>\n",
       "    </tr>\n",
       "  </tbody>\n",
       "</table>\n",
       "<p>2 rows × 60 columns</p>\n",
       "</div>"
      ],
      "text/plain": [
       "   bbcsport  beaten  bed  boutique  branches  butterflies  chocó  cloud  \\\n",
       "0         1       1    0         0         0            0      0      0   \n",
       "1         0       0    1         1         1            1      1      1   \n",
       "\n",
       "   colourful  comfort  ...  unseeded  vibrant  vondrousova  wall  watched  \\\n",
       "0          0        0  ...         1        0            2     0        0   \n",
       "1          1        1  ...         0        1            0     1        1   \n",
       "\n",
       "   wimbledon  winner  women  words  world  \n",
       "0          2       1      1      0      1  \n",
       "1          0       0      0      1      1  \n",
       "\n",
       "[2 rows x 60 columns]"
      ]
     },
     "execution_count": 15,
     "metadata": {},
     "output_type": "execute_result"
    }
   ],
   "source": [
    "count_array = vec_sentences.toarray()\n",
    "df_countVect = pd.DataFrame(data=count_array,columns = vectorizer.get_feature_names_out())\n",
    "df_countVect"
   ]
  }
 ],
 "metadata": {
  "kernelspec": {
   "display_name": "gpu_env",
   "language": "python",
   "name": "python3"
  },
  "language_info": {
   "codemirror_mode": {
    "name": "ipython",
    "version": 3
   },
   "file_extension": ".py",
   "mimetype": "text/x-python",
   "name": "python",
   "nbconvert_exporter": "python",
   "pygments_lexer": "ipython3",
   "version": "3.8.16"
  },
  "orig_nbformat": 4
 },
 "nbformat": 4,
 "nbformat_minor": 2
}
